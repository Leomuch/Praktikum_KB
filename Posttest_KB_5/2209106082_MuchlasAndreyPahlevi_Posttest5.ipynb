{
  "nbformat": 4,
  "nbformat_minor": 0,
  "metadata": {
    "colab": {
      "provenance": []
    },
    "kernelspec": {
      "name": "python3",
      "display_name": "Python 3"
    },
    "language_info": {
      "name": "python"
    }
  },
  "cells": [
    {
      "cell_type": "markdown",
      "source": [
        "# Nama : Muchlas Andrey Pahlevi\n",
        "# NIM  : 2209106082"
      ],
      "metadata": {
        "id": "5bYbNSe4vm2R"
      }
    },
    {
      "cell_type": "markdown",
      "source": [
        "# Import Library"
      ],
      "metadata": {
        "id": "4zjJP9Alve87"
      }
    },
    {
      "cell_type": "code",
      "source": [
        "import pandas as pd\n",
        "import numpy as np\n",
        "from sklearn.model_selection import train_test_split\n",
        "from sklearn.preprocessing import MinMaxScaler\n",
        "from tensorflow.keras.models import Sequential\n",
        "from tensorflow.keras import layers, callbacks\n",
        "from tensorflow.keras.layers import Dense\n",
        "from tensorflow.keras.regularizers import l2\n",
        "from tensorflow.keras.optimizers import Adam"
      ],
      "metadata": {
        "id": "xA1O30R5QO6X"
      },
      "execution_count": 1,
      "outputs": []
    },
    {
      "cell_type": "markdown",
      "source": [
        "## Load Dataset"
      ],
      "metadata": {
        "id": "4_bNIfUFvxTQ"
      }
    },
    {
      "cell_type": "code",
      "execution_count": 2,
      "metadata": {
        "id": "xjWAeU6sPJaJ"
      },
      "outputs": [],
      "source": [
        "df = pd.read_csv('final_data.csv')"
      ]
    },
    {
      "cell_type": "markdown",
      "source": [
        "## Mengecek missing value dan data duplikat"
      ],
      "metadata": {
        "id": "5jKhMYM_v5yj"
      }
    },
    {
      "cell_type": "code",
      "source": [
        "df.isnull().sum()\n",
        "duplicate = df.duplicated().sum()\n",
        "print('Jumlah nilai duplikat pada data: ', duplicate)"
      ],
      "metadata": {
        "colab": {
          "base_uri": "https://localhost:8080/"
        },
        "id": "T-6dBVMBQu3g",
        "outputId": "8c7ab3b3-7e78-443e-8b9b-0ddfaee804a3"
      },
      "execution_count": 3,
      "outputs": [
        {
          "output_type": "stream",
          "name": "stdout",
          "text": [
            "Jumlah nilai duplikat pada data:  0\n"
          ]
        }
      ]
    },
    {
      "cell_type": "markdown",
      "source": [
        "## Drop beberapa kolom yang tidak dibutuhkan"
      ],
      "metadata": {
        "id": "kQPKboIFv_VK"
      }
    },
    {
      "cell_type": "code",
      "source": [
        "df = df.drop(['player', 'team', 'name', 'position'], axis=1)"
      ],
      "metadata": {
        "id": "id4wJi8Ultzx"
      },
      "execution_count": 4,
      "outputs": []
    },
    {
      "cell_type": "markdown",
      "source": [
        "# Splitting Data"
      ],
      "metadata": {
        "id": "4nWUrz0kwJZ7"
      }
    },
    {
      "cell_type": "code",
      "source": [
        "X = df.drop(['current_value'], axis=1)\n",
        "y = df['current_value']\n",
        "\n",
        "# Membagi dataset menjadi training set dan test set (70% training, 30% testing)\n",
        "X_train, X_test, y_train, y_test = train_test_split(X, y, test_size=0.3, random_state=42)"
      ],
      "metadata": {
        "id": "F6UJEv9NdHhZ"
      },
      "execution_count": 5,
      "outputs": []
    },
    {
      "cell_type": "markdown",
      "source": [
        "# Normalisasi fitur dan target"
      ],
      "metadata": {
        "id": "DXkQb_4dwRK5"
      }
    },
    {
      "cell_type": "code",
      "source": [
        "mm = MinMaxScaler()\n",
        "X_train = mm.fit_transform(X_train)\n",
        "X_test = mm.transform(X_test)\n",
        "y_train = mm.fit_transform(np.array(y_train).reshape(-1, 1))\n",
        "y_test = mm.transform(np.array(y_test).reshape(-1, 1))"
      ],
      "metadata": {
        "id": "n3cpem5Bdxfk"
      },
      "execution_count": 6,
      "outputs": []
    },
    {
      "cell_type": "code",
      "source": [
        "X_train.shape"
      ],
      "metadata": {
        "colab": {
          "base_uri": "https://localhost:8080/"
        },
        "id": "jOiOCUWefAk5",
        "outputId": "742de2ba-9379-4fb6-d1d5-99a45acc518c"
      },
      "execution_count": 7,
      "outputs": [
        {
          "output_type": "execute_result",
          "data": {
            "text/plain": [
              "(7527, 17)"
            ]
          },
          "metadata": {},
          "execution_count": 7
        }
      ]
    },
    {
      "cell_type": "markdown",
      "source": [
        "## Definisi Model"
      ],
      "metadata": {
        "id": "olDies23wX6H"
      }
    },
    {
      "cell_type": "code",
      "source": [
        "model = Sequential([\n",
        "    layers.Dense(128, activation='relu', input_shape=[X_train.shape[1]], kernel_regularizer=l2(0.001)),\n",
        "    layers.BatchNormalization(),\n",
        "\n",
        "    layers.Dense(64, activation='relu', kernel_regularizer=l2(0.001)),\n",
        "    layers.BatchNormalization(),\n",
        "\n",
        "    layers.Dense(32, activation='relu', kernel_regularizer=l2(0.001)),\n",
        "    layers.BatchNormalization(),\n",
        "\n",
        "    layers.Dense(16, activation='relu', kernel_regularizer=l2(0.001)),\n",
        "    layers.BatchNormalization(),\n",
        "\n",
        "    layers.Dense(1)\n",
        "])"
      ],
      "metadata": {
        "colab": {
          "base_uri": "https://localhost:8080/"
        },
        "id": "hMkqj6HofF6F",
        "outputId": "65de232d-337c-420f-ce19-1684edacd0eb"
      },
      "execution_count": 8,
      "outputs": [
        {
          "output_type": "stream",
          "name": "stderr",
          "text": [
            "/usr/local/lib/python3.10/dist-packages/keras/src/layers/core/dense.py:87: UserWarning: Do not pass an `input_shape`/`input_dim` argument to a layer. When using Sequential models, prefer using an `Input(shape)` object as the first layer in the model instead.\n",
            "  super().__init__(activity_regularizer=activity_regularizer, **kwargs)\n"
          ]
        }
      ]
    },
    {
      "cell_type": "markdown",
      "source": [
        "## Kompilasi Model"
      ],
      "metadata": {
        "id": "9Jt__hMiwd1T"
      }
    },
    {
      "cell_type": "code",
      "source": [
        "model.compile(\n",
        "    optimizer=Adam(learning_rate=0.001),\n",
        "    loss='mean_squared_error',\n",
        "    metrics=['mean_absolute_error']\n",
        ")"
      ],
      "metadata": {
        "id": "QhM16fJKwcnu"
      },
      "execution_count": 9,
      "outputs": []
    },
    {
      "cell_type": "markdown",
      "source": [
        "## Definisi callback EarlyStopping"
      ],
      "metadata": {
        "id": "xTxLm44cwh9b"
      }
    },
    {
      "cell_type": "code",
      "source": [
        "es = callbacks.EarlyStopping(\n",
        "    monitor = 'val_loss',\n",
        "    patience = 5,\n",
        "    verbose = 1,\n",
        "    restore_best_weights = True\n",
        ")"
      ],
      "metadata": {
        "id": "QwWG1R8-fkDF"
      },
      "execution_count": 10,
      "outputs": []
    },
    {
      "cell_type": "code",
      "source": [
        "history = model.fit(\n",
        "    X_train, y_train,\n",
        "    epochs = 50,\n",
        "    validation_split=0.2,\n",
        "    callbacks=[es]\n",
        ")"
      ],
      "metadata": {
        "colab": {
          "base_uri": "https://localhost:8080/"
        },
        "id": "QFA4HIf9fowb",
        "outputId": "d9909670-9b99-4662-9b0f-76b5f3b0ea9f"
      },
      "execution_count": 11,
      "outputs": [
        {
          "output_type": "stream",
          "name": "stdout",
          "text": [
            "Epoch 1/50\n",
            "\u001b[1m189/189\u001b[0m \u001b[32m━━━━━━━━━━━━━━━━━━━━\u001b[0m\u001b[37m\u001b[0m \u001b[1m11s\u001b[0m 6ms/step - loss: 0.3621 - mean_absolute_error: 0.2834 - val_loss: 0.2883 - val_mean_absolute_error: 0.3364\n",
            "Epoch 2/50\n",
            "\u001b[1m189/189\u001b[0m \u001b[32m━━━━━━━━━━━━━━━━━━━━\u001b[0m\u001b[37m\u001b[0m \u001b[1m1s\u001b[0m 4ms/step - loss: 0.1628 - mean_absolute_error: 0.0820 - val_loss: 0.1891 - val_mean_absolute_error: 0.1924\n",
            "Epoch 3/50\n",
            "\u001b[1m189/189\u001b[0m \u001b[32m━━━━━━━━━━━━━━━━━━━━\u001b[0m\u001b[37m\u001b[0m \u001b[1m1s\u001b[0m 4ms/step - loss: 0.1466 - mean_absolute_error: 0.0704 - val_loss: 0.1358 - val_mean_absolute_error: 0.0671\n",
            "Epoch 4/50\n",
            "\u001b[1m189/189\u001b[0m \u001b[32m━━━━━━━━━━━━━━━━━━━━\u001b[0m\u001b[37m\u001b[0m \u001b[1m2s\u001b[0m 6ms/step - loss: 0.1304 - mean_absolute_error: 0.0513 - val_loss: 0.1185 - val_mean_absolute_error: 0.0330\n",
            "Epoch 5/50\n",
            "\u001b[1m189/189\u001b[0m \u001b[32m━━━━━━━━━━━━━━━━━━━━\u001b[0m\u001b[37m\u001b[0m \u001b[1m1s\u001b[0m 7ms/step - loss: 0.1156 - mean_absolute_error: 0.0346 - val_loss: 0.1064 - val_mean_absolute_error: 0.0320\n",
            "Epoch 6/50\n",
            "\u001b[1m189/189\u001b[0m \u001b[32m━━━━━━━━━━━━━━━━━━━━\u001b[0m\u001b[37m\u001b[0m \u001b[1m2s\u001b[0m 4ms/step - loss: 0.1037 - mean_absolute_error: 0.0352 - val_loss: 0.0942 - val_mean_absolute_error: 0.0290\n",
            "Epoch 7/50\n",
            "\u001b[1m189/189\u001b[0m \u001b[32m━━━━━━━━━━━━━━━━━━━━\u001b[0m\u001b[37m\u001b[0m \u001b[1m1s\u001b[0m 4ms/step - loss: 0.0915 - mean_absolute_error: 0.0288 - val_loss: 0.0841 - val_mean_absolute_error: 0.0326\n",
            "Epoch 8/50\n",
            "\u001b[1m189/189\u001b[0m \u001b[32m━━━━━━━━━━━━━━━━━━━━\u001b[0m\u001b[37m\u001b[0m \u001b[1m1s\u001b[0m 4ms/step - loss: 0.0807 - mean_absolute_error: 0.0272 - val_loss: 0.0732 - val_mean_absolute_error: 0.0280\n",
            "Epoch 9/50\n",
            "\u001b[1m189/189\u001b[0m \u001b[32m━━━━━━━━━━━━━━━━━━━━\u001b[0m\u001b[37m\u001b[0m \u001b[1m1s\u001b[0m 4ms/step - loss: 0.0703 - mean_absolute_error: 0.0261 - val_loss: 0.0636 - val_mean_absolute_error: 0.0283\n",
            "Epoch 10/50\n",
            "\u001b[1m189/189\u001b[0m \u001b[32m━━━━━━━━━━━━━━━━━━━━\u001b[0m\u001b[37m\u001b[0m \u001b[1m1s\u001b[0m 4ms/step - loss: 0.0609 - mean_absolute_error: 0.0243 - val_loss: 0.0552 - val_mean_absolute_error: 0.0276\n",
            "Epoch 11/50\n",
            "\u001b[1m189/189\u001b[0m \u001b[32m━━━━━━━━━━━━━━━━━━━━\u001b[0m\u001b[37m\u001b[0m \u001b[1m1s\u001b[0m 5ms/step - loss: 0.0524 - mean_absolute_error: 0.0229 - val_loss: 0.0473 - val_mean_absolute_error: 0.0260\n",
            "Epoch 12/50\n",
            "\u001b[1m189/189\u001b[0m \u001b[32m━━━━━━━━━━━━━━━━━━━━\u001b[0m\u001b[37m\u001b[0m \u001b[1m1s\u001b[0m 4ms/step - loss: 0.0451 - mean_absolute_error: 0.0255 - val_loss: 0.0395 - val_mean_absolute_error: 0.0219\n",
            "Epoch 13/50\n",
            "\u001b[1m189/189\u001b[0m \u001b[32m━━━━━━━━━━━━━━━━━━━━\u001b[0m\u001b[37m\u001b[0m \u001b[1m1s\u001b[0m 4ms/step - loss: 0.0386 - mean_absolute_error: 0.0256 - val_loss: 0.0343 - val_mean_absolute_error: 0.0322\n",
            "Epoch 14/50\n",
            "\u001b[1m189/189\u001b[0m \u001b[32m━━━━━━━━━━━━━━━━━━━━\u001b[0m\u001b[37m\u001b[0m \u001b[1m2s\u001b[0m 6ms/step - loss: 0.0326 - mean_absolute_error: 0.0254 - val_loss: 0.0282 - val_mean_absolute_error: 0.0199\n",
            "Epoch 15/50\n",
            "\u001b[1m189/189\u001b[0m \u001b[32m━━━━━━━━━━━━━━━━━━━━\u001b[0m\u001b[37m\u001b[0m \u001b[1m1s\u001b[0m 7ms/step - loss: 0.0269 - mean_absolute_error: 0.0200 - val_loss: 0.0242 - val_mean_absolute_error: 0.0265\n",
            "Epoch 16/50\n",
            "\u001b[1m189/189\u001b[0m \u001b[32m━━━━━━━━━━━━━━━━━━━━\u001b[0m\u001b[37m\u001b[0m \u001b[1m2s\u001b[0m 4ms/step - loss: 0.0227 - mean_absolute_error: 0.0219 - val_loss: 0.0195 - val_mean_absolute_error: 0.0174\n",
            "Epoch 17/50\n",
            "\u001b[1m189/189\u001b[0m \u001b[32m━━━━━━━━━━━━━━━━━━━━\u001b[0m\u001b[37m\u001b[0m \u001b[1m1s\u001b[0m 4ms/step - loss: 0.0187 - mean_absolute_error: 0.0198 - val_loss: 0.0294 - val_mean_absolute_error: 0.0822\n",
            "Epoch 18/50\n",
            "\u001b[1m189/189\u001b[0m \u001b[32m━━━━━━━━━━━━━━━━━━━━\u001b[0m\u001b[37m\u001b[0m \u001b[1m1s\u001b[0m 4ms/step - loss: 0.0232 - mean_absolute_error: 0.0436 - val_loss: 0.0188 - val_mean_absolute_error: 0.0270\n",
            "Epoch 19/50\n",
            "\u001b[1m189/189\u001b[0m \u001b[32m━━━━━━━━━━━━━━━━━━━━\u001b[0m\u001b[37m\u001b[0m \u001b[1m1s\u001b[0m 4ms/step - loss: 0.0181 - mean_absolute_error: 0.0240 - val_loss: 0.0168 - val_mean_absolute_error: 0.0301\n",
            "Epoch 20/50\n",
            "\u001b[1m189/189\u001b[0m \u001b[32m━━━━━━━━━━━━━━━━━━━━\u001b[0m\u001b[37m\u001b[0m \u001b[1m1s\u001b[0m 4ms/step - loss: 0.0152 - mean_absolute_error: 0.0201 - val_loss: 0.0133 - val_mean_absolute_error: 0.0167\n",
            "Epoch 21/50\n",
            "\u001b[1m189/189\u001b[0m \u001b[32m━━━━━━━━━━━━━━━━━━━━\u001b[0m\u001b[37m\u001b[0m \u001b[1m1s\u001b[0m 4ms/step - loss: 0.0128 - mean_absolute_error: 0.0177 - val_loss: 0.0115 - val_mean_absolute_error: 0.0218\n",
            "Epoch 22/50\n",
            "\u001b[1m189/189\u001b[0m \u001b[32m━━━━━━━━━━━━━━━━━━━━\u001b[0m\u001b[37m\u001b[0m \u001b[1m1s\u001b[0m 4ms/step - loss: 0.0111 - mean_absolute_error: 0.0193 - val_loss: 0.0098 - val_mean_absolute_error: 0.0174\n",
            "Epoch 23/50\n",
            "\u001b[1m189/189\u001b[0m \u001b[32m━━━━━━━━━━━━━━━━━━━━\u001b[0m\u001b[37m\u001b[0m \u001b[1m1s\u001b[0m 4ms/step - loss: 0.0096 - mean_absolute_error: 0.0194 - val_loss: 0.0084 - val_mean_absolute_error: 0.0167\n",
            "Epoch 24/50\n",
            "\u001b[1m189/189\u001b[0m \u001b[32m━━━━━━━━━━━━━━━━━━━━\u001b[0m\u001b[37m\u001b[0m \u001b[1m1s\u001b[0m 4ms/step - loss: 0.0086 - mean_absolute_error: 0.0199 - val_loss: 0.0074 - val_mean_absolute_error: 0.0176\n",
            "Epoch 25/50\n",
            "\u001b[1m189/189\u001b[0m \u001b[32m━━━━━━━━━━━━━━━━━━━━\u001b[0m\u001b[37m\u001b[0m \u001b[1m1s\u001b[0m 5ms/step - loss: 0.0073 - mean_absolute_error: 0.0192 - val_loss: 0.0067 - val_mean_absolute_error: 0.0202\n",
            "Epoch 26/50\n",
            "\u001b[1m189/189\u001b[0m \u001b[32m━━━━━━━━━━━━━━━━━━━━\u001b[0m\u001b[37m\u001b[0m \u001b[1m2s\u001b[0m 6ms/step - loss: 0.0069 - mean_absolute_error: 0.0217 - val_loss: 0.0057 - val_mean_absolute_error: 0.0183\n",
            "Epoch 27/50\n",
            "\u001b[1m189/189\u001b[0m \u001b[32m━━━━━━━━━━━━━━━━━━━━\u001b[0m\u001b[37m\u001b[0m \u001b[1m2s\u001b[0m 8ms/step - loss: 0.0054 - mean_absolute_error: 0.0180 - val_loss: 0.0074 - val_mean_absolute_error: 0.0375\n",
            "Epoch 28/50\n",
            "\u001b[1m189/189\u001b[0m \u001b[32m━━━━━━━━━━━━━━━━━━━━\u001b[0m\u001b[37m\u001b[0m \u001b[1m2s\u001b[0m 5ms/step - loss: 0.0052 - mean_absolute_error: 0.0194 - val_loss: 0.0051 - val_mean_absolute_error: 0.0279\n",
            "Epoch 29/50\n",
            "\u001b[1m189/189\u001b[0m \u001b[32m━━━━━━━━━━━━━━━━━━━━\u001b[0m\u001b[37m\u001b[0m \u001b[1m1s\u001b[0m 4ms/step - loss: 0.0044 - mean_absolute_error: 0.0200 - val_loss: 0.0048 - val_mean_absolute_error: 0.0297\n",
            "Epoch 30/50\n",
            "\u001b[1m189/189\u001b[0m \u001b[32m━━━━━━━━━━━━━━━━━━━━\u001b[0m\u001b[37m\u001b[0m \u001b[1m1s\u001b[0m 4ms/step - loss: 0.0039 - mean_absolute_error: 0.0185 - val_loss: 0.0057 - val_mean_absolute_error: 0.0387\n",
            "Epoch 31/50\n",
            "\u001b[1m189/189\u001b[0m \u001b[32m━━━━━━━━━━━━━━━━━━━━\u001b[0m\u001b[37m\u001b[0m \u001b[1m1s\u001b[0m 5ms/step - loss: 0.0048 - mean_absolute_error: 0.0256 - val_loss: 0.0058 - val_mean_absolute_error: 0.0360\n",
            "Epoch 32/50\n",
            "\u001b[1m189/189\u001b[0m \u001b[32m━━━━━━━━━━━━━━━━━━━━\u001b[0m\u001b[37m\u001b[0m \u001b[1m1s\u001b[0m 4ms/step - loss: 0.0036 - mean_absolute_error: 0.0196 - val_loss: 0.0056 - val_mean_absolute_error: 0.0366\n",
            "Epoch 33/50\n",
            "\u001b[1m189/189\u001b[0m \u001b[32m━━━━━━━━━━━━━━━━━━━━\u001b[0m\u001b[37m\u001b[0m \u001b[1m1s\u001b[0m 4ms/step - loss: 0.0039 - mean_absolute_error: 0.0218 - val_loss: 0.0045 - val_mean_absolute_error: 0.0355\n",
            "Epoch 34/50\n",
            "\u001b[1m189/189\u001b[0m \u001b[32m━━━━━━━━━━━━━━━━━━━━\u001b[0m\u001b[37m\u001b[0m \u001b[1m1s\u001b[0m 4ms/step - loss: 0.0029 - mean_absolute_error: 0.0185 - val_loss: 0.0030 - val_mean_absolute_error: 0.0244\n",
            "Epoch 35/50\n",
            "\u001b[1m189/189\u001b[0m \u001b[32m━━━━━━━━━━━━━━━━━━━━\u001b[0m\u001b[37m\u001b[0m \u001b[1m1s\u001b[0m 5ms/step - loss: 0.0035 - mean_absolute_error: 0.0248 - val_loss: 0.0086 - val_mean_absolute_error: 0.0668\n",
            "Epoch 36/50\n",
            "\u001b[1m189/189\u001b[0m \u001b[32m━━━━━━━━━━━━━━━━━━━━\u001b[0m\u001b[37m\u001b[0m \u001b[1m2s\u001b[0m 7ms/step - loss: 0.0029 - mean_absolute_error: 0.0208 - val_loss: 0.0027 - val_mean_absolute_error: 0.0179\n",
            "Epoch 37/50\n",
            "\u001b[1m189/189\u001b[0m \u001b[32m━━━━━━━━━━━━━━━━━━━━\u001b[0m\u001b[37m\u001b[0m \u001b[1m1s\u001b[0m 7ms/step - loss: 0.0022 - mean_absolute_error: 0.0170 - val_loss: 0.0022 - val_mean_absolute_error: 0.0181\n",
            "Epoch 38/50\n",
            "\u001b[1m189/189\u001b[0m \u001b[32m━━━━━━━━━━━━━━━━━━━━\u001b[0m\u001b[37m\u001b[0m \u001b[1m2s\u001b[0m 4ms/step - loss: 0.0020 - mean_absolute_error: 0.0162 - val_loss: 0.0031 - val_mean_absolute_error: 0.0323\n",
            "Epoch 39/50\n",
            "\u001b[1m189/189\u001b[0m \u001b[32m━━━━━━━━━━━━━━━━━━━━\u001b[0m\u001b[37m\u001b[0m \u001b[1m1s\u001b[0m 5ms/step - loss: 0.0018 - mean_absolute_error: 0.0169 - val_loss: 0.0029 - val_mean_absolute_error: 0.0323\n",
            "Epoch 40/50\n",
            "\u001b[1m189/189\u001b[0m \u001b[32m━━━━━━━━━━━━━━━━━━━━\u001b[0m\u001b[37m\u001b[0m \u001b[1m1s\u001b[0m 5ms/step - loss: 0.0026 - mean_absolute_error: 0.0236 - val_loss: 0.0072 - val_mean_absolute_error: 0.0542\n",
            "Epoch 41/50\n",
            "\u001b[1m189/189\u001b[0m \u001b[32m━━━━━━━━━━━━━━━━━━━━\u001b[0m\u001b[37m\u001b[0m \u001b[1m1s\u001b[0m 5ms/step - loss: 0.0064 - mean_absolute_error: 0.0354 - val_loss: 0.0031 - val_mean_absolute_error: 0.0157\n",
            "Epoch 42/50\n",
            "\u001b[1m189/189\u001b[0m \u001b[32m━━━━━━━━━━━━━━━━━━━━\u001b[0m\u001b[37m\u001b[0m \u001b[1m1s\u001b[0m 4ms/step - loss: 0.0032 - mean_absolute_error: 0.0188 - val_loss: 0.0036 - val_mean_absolute_error: 0.0284\n",
            "Epoch 42: early stopping\n",
            "Restoring model weights from the end of the best epoch: 37.\n"
          ]
        }
      ]
    },
    {
      "cell_type": "markdown",
      "source": [
        "### Membagi data training menjadi training penuh dan validation set"
      ],
      "metadata": {
        "id": "6jEB6huKwqlo"
      }
    },
    {
      "cell_type": "code",
      "source": [
        "X_train_full, X_val, y_train_full, y_val = train_test_split(X_train, y_train, test_size=0.2, random_state=42)"
      ],
      "metadata": {
        "id": "0f_mUdG-wn4O"
      },
      "execution_count": 12,
      "outputs": []
    },
    {
      "cell_type": "markdown",
      "source": [
        "### Melatih ulang model tanpa validation_split"
      ],
      "metadata": {
        "id": "Dz59QjsmwzHn"
      }
    },
    {
      "cell_type": "code",
      "source": [
        "history = model.fit(\n",
        "    X_train_full, y_train_full,\n",
        "    epochs=50,\n",
        "    validation_data=(X_val, y_val),\n",
        "    callbacks=[es]\n",
        ")"
      ],
      "metadata": {
        "colab": {
          "base_uri": "https://localhost:8080/"
        },
        "id": "vc7JSXZciJOt",
        "outputId": "9be9513b-0e0e-4bf6-ece6-77ed55a3e22e"
      },
      "execution_count": 13,
      "outputs": [
        {
          "output_type": "stream",
          "name": "stdout",
          "text": [
            "Epoch 1/50\n",
            "\u001b[1m189/189\u001b[0m \u001b[32m━━━━━━━━━━━━━━━━━━━━\u001b[0m\u001b[37m\u001b[0m \u001b[1m1s\u001b[0m 5ms/step - loss: 0.0019 - mean_absolute_error: 0.0159 - val_loss: 0.0030 - val_mean_absolute_error: 0.0322\n",
            "Epoch 2/50\n",
            "\u001b[1m189/189\u001b[0m \u001b[32m━━━━━━━━━━━━━━━━━━━━\u001b[0m\u001b[37m\u001b[0m \u001b[1m1s\u001b[0m 5ms/step - loss: 0.0020 - mean_absolute_error: 0.0179 - val_loss: 0.0027 - val_mean_absolute_error: 0.0261\n",
            "Epoch 3/50\n",
            "\u001b[1m189/189\u001b[0m \u001b[32m━━━━━━━━━━━━━━━━━━━━\u001b[0m\u001b[37m\u001b[0m \u001b[1m1s\u001b[0m 5ms/step - loss: 0.0016 - mean_absolute_error: 0.0158 - val_loss: 0.0021 - val_mean_absolute_error: 0.0253\n",
            "Epoch 4/50\n",
            "\u001b[1m189/189\u001b[0m \u001b[32m━━━━━━━━━━━━━━━━━━━━\u001b[0m\u001b[37m\u001b[0m \u001b[1m2s\u001b[0m 7ms/step - loss: 0.0015 - mean_absolute_error: 0.0165 - val_loss: 0.0019 - val_mean_absolute_error: 0.0251\n",
            "Epoch 5/50\n",
            "\u001b[1m189/189\u001b[0m \u001b[32m━━━━━━━━━━━━━━━━━━━━\u001b[0m\u001b[37m\u001b[0m \u001b[1m1s\u001b[0m 7ms/step - loss: 0.0015 - mean_absolute_error: 0.0176 - val_loss: 0.0039 - val_mean_absolute_error: 0.0418\n",
            "Epoch 6/50\n",
            "\u001b[1m189/189\u001b[0m \u001b[32m━━━━━━━━━━━━━━━━━━━━\u001b[0m\u001b[37m\u001b[0m \u001b[1m1s\u001b[0m 7ms/step - loss: 0.0015 - mean_absolute_error: 0.0165 - val_loss: 0.0013 - val_mean_absolute_error: 0.0153\n",
            "Epoch 7/50\n",
            "\u001b[1m189/189\u001b[0m \u001b[32m━━━━━━━━━━━━━━━━━━━━\u001b[0m\u001b[37m\u001b[0m \u001b[1m2s\u001b[0m 4ms/step - loss: 0.0015 - mean_absolute_error: 0.0188 - val_loss: 0.0072 - val_mean_absolute_error: 0.0566\n",
            "Epoch 8/50\n",
            "\u001b[1m189/189\u001b[0m \u001b[32m━━━━━━━━━━━━━━━━━━━━\u001b[0m\u001b[37m\u001b[0m \u001b[1m1s\u001b[0m 4ms/step - loss: 0.0016 - mean_absolute_error: 0.0188 - val_loss: 0.0026 - val_mean_absolute_error: 0.0339\n",
            "Epoch 9/50\n",
            "\u001b[1m189/189\u001b[0m \u001b[32m━━━━━━━━━━━━━━━━━━━━\u001b[0m\u001b[37m\u001b[0m \u001b[1m1s\u001b[0m 4ms/step - loss: 0.0012 - mean_absolute_error: 0.0162 - val_loss: 0.0019 - val_mean_absolute_error: 0.0303\n",
            "Epoch 10/50\n",
            "\u001b[1m189/189\u001b[0m \u001b[32m━━━━━━━━━━━━━━━━━━━━\u001b[0m\u001b[37m\u001b[0m \u001b[1m1s\u001b[0m 5ms/step - loss: 0.0015 - mean_absolute_error: 0.0200 - val_loss: 0.0148 - val_mean_absolute_error: 0.1020\n",
            "Epoch 11/50\n",
            "\u001b[1m189/189\u001b[0m \u001b[32m━━━━━━━━━━━━━━━━━━━━\u001b[0m\u001b[37m\u001b[0m \u001b[1m1s\u001b[0m 5ms/step - loss: 0.0017 - mean_absolute_error: 0.0198 - val_loss: 0.0021 - val_mean_absolute_error: 0.0255\n",
            "Epoch 11: early stopping\n",
            "Restoring model weights from the end of the best epoch: 6.\n"
          ]
        }
      ]
    },
    {
      "cell_type": "markdown",
      "source": [
        "## Evaluasi Model"
      ],
      "metadata": {
        "id": "ahXEdiQ1w6v6"
      }
    },
    {
      "cell_type": "code",
      "source": [
        "train_loss, train_mae = model.evaluate(X_train_full, y_train_full)\n",
        "val_loss, val_mae = model.evaluate(X_val, y_val)\n",
        "\n",
        "print(f\"Training MAE: {train_mae*100:.2f}%\")\n",
        "print(f\"Validation MAE: {val_mae*100:.2f}%\")"
      ],
      "metadata": {
        "colab": {
          "base_uri": "https://localhost:8080/"
        },
        "id": "U23umrNtw4rI",
        "outputId": "cf35be40-945f-45bd-aa95-3d71ea11045f"
      },
      "execution_count": 14,
      "outputs": [
        {
          "output_type": "stream",
          "name": "stdout",
          "text": [
            "\u001b[1m189/189\u001b[0m \u001b[32m━━━━━━━━━━━━━━━━━━━━\u001b[0m\u001b[37m\u001b[0m \u001b[1m1s\u001b[0m 4ms/step - loss: 0.0013 - mean_absolute_error: 0.0157\n",
            "\u001b[1m48/48\u001b[0m \u001b[32m━━━━━━━━━━━━━━━━━━━━\u001b[0m\u001b[37m\u001b[0m \u001b[1m0s\u001b[0m 3ms/step - loss: 0.0014 - mean_absolute_error: 0.0155\n",
            "Training MAE: 1.53%\n",
            "Validation MAE: 1.53%\n"
          ]
        }
      ]
    }
  ]
}